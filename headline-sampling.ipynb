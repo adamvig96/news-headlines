{
 "cells": [
  {
   "cell_type": "code",
   "execution_count": 1,
   "metadata": {},
   "outputs": [],
   "source": [
    "import numpy as np\n",
    "import pandas as pd\n",
    "from sklearn.feature_extraction.text import CountVectorizer"
   ]
  },
  {
   "cell_type": "code",
   "execution_count": 2,
   "metadata": {},
   "outputs": [],
   "source": [
    "def stratified_sample(df, category, sample_size):\n",
    "    return (\n",
    "        df.groupby(category, group_keys=False)\n",
    "        .apply(lambda x: x.sample(int(np.rint(sample_size * len(x) / len(df)))))\n",
    "        .sample(frac=1)\n",
    "        .reset_index(drop=True)\n",
    "    )"
   ]
  },
  {
   "cell_type": "markdown",
   "metadata": {},
   "source": [
    "### 0. read all data from 6 online newspaper outlet in 2020"
   ]
  },
  {
   "cell_type": "code",
   "execution_count": 3,
   "metadata": {},
   "outputs": [],
   "source": [
    "df_all = pd.read_pickle(\n",
    "    \"/Users/vigadam/Dropbox/github/media_network/media_data/clean_text/2020/all_site_2020.pkl\",\n",
    ")"
   ]
  },
  {
   "cell_type": "code",
   "execution_count": 4,
   "metadata": {},
   "outputs": [
    {
     "data": {
      "text/plain": [
       "Index    3168\n",
       "24.hu      14\n",
       "Name: page, dtype: int64"
      ]
     },
     "execution_count": 4,
     "metadata": {},
     "output_type": "execute_result"
    }
   ],
   "source": [
    "df_all.loc[\n",
    "    df_all[\"tags\"].apply(\n",
    "        lambda x: \"koronavírus magyarországon\" in x if type(x) == str else False\n",
    "    ),\n",
    "    \"page\",\n",
    "].value_counts()\n",
    "# check for covid benchmark study!!"
   ]
  },
  {
   "cell_type": "code",
   "execution_count": 5,
   "metadata": {},
   "outputs": [],
   "source": [
    "df_all[\"page\"] = df_all[\"page\"].str.lower().str.replace(\".\", \"\", regex=True)"
   ]
  },
  {
   "cell_type": "code",
   "execution_count": 6,
   "metadata": {},
   "outputs": [],
   "source": [
    "df = df_all.copy()"
   ]
  },
  {
   "cell_type": "code",
   "execution_count": 7,
   "metadata": {},
   "outputs": [
    {
     "data": {
      "text/plain": [
       "origo    57575\n",
       "index    52676\n",
       "mno      45155\n",
       "24hu     37450\n",
       "444      15978\n",
       "888      15459\n",
       "Name: page, dtype: int64"
      ]
     },
     "execution_count": 7,
     "metadata": {},
     "output_type": "execute_result"
    }
   ],
   "source": [
    "df[\"page\"].value_counts()"
   ]
  },
  {
   "cell_type": "markdown",
   "metadata": {},
   "source": [
    "### 2. filter for section belfold"
   ]
  },
  {
   "cell_type": "code",
   "execution_count": 8,
   "metadata": {},
   "outputs": [],
   "source": [
    "df = df.assign(\n",
    "    category=lambda x: x[\"category\"]\n",
    "    .str.lower()\n",
    "    .replace(\"á\", \"a\")\n",
    "    .replace(\"ö\", \"o\")\n",
    "    .replace(\"ü\", \"u\")\n",
    "    .replace(\"é\", \"e\")\n",
    "    .replace(\"itthon\", \"belfold\")\n",
    "    .replace(\"belföld\", \"belfold\")\n",
    "    .replace(\"politika\", \"belfold\")\n",
    "    .replace(\"ketharmad\", \"belfold\")\n",
    "    .replace(\"egészségügy\", \"belfold\")\n",
    "    .replace(\"járvány\", \"belfold\")\n",
    "    .replace(\"oktatás\", \"belfold\")\n",
    "    .replace(\"budapest\", \"belfold\")\n",
    "    .replace(\"koronavírus\", \"belfold\")\n",
    ").loc[lambda x: x[\"category\"] == \"belfold\"]"
   ]
  },
  {
   "cell_type": "code",
   "execution_count": 9,
   "metadata": {},
   "outputs": [
    {
     "data": {
      "text/plain": [
       "origo    16816\n",
       "index    16386\n",
       "mno      13340\n",
       "24hu     12222\n",
       "888       5722\n",
       "444       5246\n",
       "Name: page, dtype: int64"
      ]
     },
     "execution_count": 9,
     "metadata": {},
     "output_type": "execute_result"
    }
   ],
   "source": [
    "df[\"page\"].value_counts()"
   ]
  },
  {
   "cell_type": "markdown",
   "metadata": {},
   "source": [
    "### 3. drop None titles"
   ]
  },
  {
   "cell_type": "code",
   "execution_count": 10,
   "metadata": {},
   "outputs": [],
   "source": [
    "df = df.dropna(subset=[\"title\"])"
   ]
  },
  {
   "cell_type": "code",
   "execution_count": 11,
   "metadata": {},
   "outputs": [],
   "source": [
    "df = df.loc[~df[\"title\"].apply(lambda x: \"videó\" in x if type(x) == str else False)]\n",
    "df = df.loc[~df[\"title\"].apply(lambda x: \"podcast\" in x if type(x) == str else False)]"
   ]
  },
  {
   "cell_type": "code",
   "execution_count": 12,
   "metadata": {},
   "outputs": [
    {
     "data": {
      "text/plain": [
       "index    16312\n",
       "origo    15611\n",
       "mno      13076\n",
       "24hu     12035\n",
       "888       5683\n",
       "444       5228\n",
       "Name: page, dtype: int64"
      ]
     },
     "execution_count": 12,
     "metadata": {},
     "output_type": "execute_result"
    }
   ],
   "source": [
    "df[\"page\"].value_counts()"
   ]
  },
  {
   "cell_type": "code",
   "execution_count": 13,
   "metadata": {},
   "outputs": [],
   "source": [
    "df.to_pickle(\"all_sites_belfold.pkl\")"
   ]
  },
  {
   "cell_type": "markdown",
   "metadata": {},
   "source": [
    "### read belfold only"
   ]
  },
  {
   "cell_type": "code",
   "execution_count": 14,
   "metadata": {
    "scrolled": true
   },
   "outputs": [
    {
     "data": {
      "text/plain": [
       "index    16312\n",
       "origo    15611\n",
       "mno      13076\n",
       "24hu     12035\n",
       "888       5683\n",
       "444       5228\n",
       "Name: page, dtype: int64"
      ]
     },
     "execution_count": 14,
     "metadata": {},
     "output_type": "execute_result"
    }
   ],
   "source": [
    "df = pd.read_pickle(\"all_sites_belfold.pkl\")\n",
    "df[\"page\"].value_counts()"
   ]
  },
  {
   "cell_type": "markdown",
   "metadata": {},
   "source": [
    "main_pages = [\"index\",\"origo\",\"24hu\"]\n",
    "\n",
    "df_main = df.loc[lambda x: x[\"page\"].isin(main_pages)]\n",
    "\n",
    "df = df_main.copy()"
   ]
  },
  {
   "cell_type": "markdown",
   "metadata": {},
   "source": [
    "### 4. check  in all articles"
   ]
  },
  {
   "cell_type": "code",
   "execution_count": 15,
   "metadata": {},
   "outputs": [],
   "source": [
    "# some index obs has no tags, but link has coronavirus, tag == koronavírus\n",
    "df.loc[\n",
    "    (\n",
    "        (df[\"link\"].apply(lambda x: \"koronavirus\" in x if type(x) == str else False))\n",
    "        & (df[\"page\"] == \"index\")\n",
    "        & (df[\"tags\"].isnull())\n",
    "    ),\n",
    "    \"tags\",\n",
    "] = \"koronavírus\""
   ]
  },
  {
   "cell_type": "markdown",
   "metadata": {},
   "source": [
    "corpus = (\n",
    "    df[\"tags\"]\n",
    "    .str.replace(\"[\", \"\", regex=True)\n",
    "    .str.replace(\"]\", \"\", regex=True)\n",
    "    .str.replace(\"'\", \"\", regex=True)\n",
    "    .str.replace(\",\", \"\", regex=True)\n",
    "    .dropna()\n",
    ")\n",
    "\n",
    "vectorizer = CountVectorizer()\n",
    "X = vectorizer.fit_transform(corpus)\n",
    "\n",
    "dtm = pd.DataFrame(X.toarray(), columns=vectorizer.get_feature_names())\n",
    "\n",
    "dtm.sum().sort_values(ascending=False).head(25)"
   ]
  },
  {
   "cell_type": "markdown",
   "metadata": {},
   "source": [
    "vectorizer = CountVectorizer(ngram_range = (2,2))\n",
    "X = vectorizer.fit_transform(corpus)\n",
    "\n",
    "dtm = pd.DataFrame(X.toarray(), columns=vectorizer.get_feature_names())\n",
    "\n",
    "dtm.sum().sort_values(ascending=False).head(25)"
   ]
  },
  {
   "cell_type": "markdown",
   "metadata": {},
   "source": [
    "### 5. drop selected tags"
   ]
  },
  {
   "cell_type": "code",
   "execution_count": 16,
   "metadata": {},
   "outputs": [],
   "source": [
    "df[\"krimi\"] = df[\"tags\"].apply(lambda x: \"krimi\" in x if type(x) == str else False)\n",
    "df[\"időjárás\"] = df[\"tags\"].apply(\n",
    "    lambda x: \"időjárás\" in x if type(x) == str else False\n",
    ")\n",
    "df[\"baleset\"] = df[\"tags\"].apply(lambda x: \"baleset\" in x if type(x) == str else False)\n",
    "df[\"rendőrség\"] = df[\"tags\"].apply(\n",
    "    lambda x: \"rendőrség\" in x if type(x) == str else False\n",
    ")\n",
    "df[\"bűnügy\"] = df[\"tags\"].apply(lambda x: \"bűnügy\" in x if type(x) == str else False)\n",
    "df[\"gyilkosság\"] = df[\"tags\"].apply(\n",
    "    lambda x: \"gyilkosság\" in x if type(x) == str else False\n",
    ")\n",
    "df[\"testi_sertes\"] = df[\"tags\"].apply(lambda x: \"testi sértés\" in x if type(x) == str else False)\n",
    "df[\"migráns\"] = df[\"tags\"].apply(lambda x: \"migráns\" in x if type(x) == str else False)\n",
    "df[\"podcast\"] = df[\"tags\"].apply(lambda x: \"podcast\" in x if type(x) == str else False)\n",
    "df[\"drop\"] = df.filter(\n",
    "    [\n",
    "        \"krimi\",\n",
    "        \"időjárás\",\n",
    "        \"baleset\",\n",
    "        \"rendőrség\",\n",
    "        \"bűnügy\",\n",
    "        \"testi_sertes\",\n",
    "        \"gyilkosság\",\n",
    "        \"podcast\",\n",
    "    ]\n",
    ").sum(axis=1)\n",
    "\n",
    "# BUT! keep those, that has migráns tag\n",
    "\n",
    "df.loc[lambda x: (x[\"drop\"] != 0) & (x[\"migráns\"]) == 1, \"drop\"] = 0"
   ]
  },
  {
   "cell_type": "code",
   "execution_count": 17,
   "metadata": {},
   "outputs": [
    {
     "name": "stdout",
     "output_type": "stream",
     "text": [
      "index    14413\n",
      "mno      12160\n",
      "origo    11057\n",
      "24hu      9040\n",
      "888       5649\n",
      "444       5177\n",
      "Name: page, dtype: int64\n"
     ]
    }
   ],
   "source": [
    "#drop articles based on selected tags\n",
    "print(df.loc[lambda x: x[\"drop\"] == 0,\"page\"].value_counts())\n",
    "df = df.loc[lambda x: (x[\"drop\"] == 0)]"
   ]
  },
  {
   "cell_type": "markdown",
   "metadata": {},
   "source": [
    "### 6. create koronavírus category"
   ]
  },
  {
   "cell_type": "code",
   "execution_count": 18,
   "metadata": {},
   "outputs": [],
   "source": [
    "df[\"korona\"] = df[\"tags\"].apply(lambda x: \"koronavírus\" in x if type(x) == str else False)"
   ]
  },
  {
   "cell_type": "code",
   "execution_count": 19,
   "metadata": {},
   "outputs": [],
   "source": [
    "df_hun_covid = df.loc[df[\"korona\"] == 1]"
   ]
  },
  {
   "cell_type": "code",
   "execution_count": 20,
   "metadata": {},
   "outputs": [
    {
     "data": {
      "text/plain": [
       "index    7158\n",
       "mno      2903\n",
       "444      2772\n",
       "24hu     2741\n",
       "origo    2563\n",
       "888      1508\n",
       "Name: page, dtype: int64"
      ]
     },
     "execution_count": 20,
     "metadata": {},
     "output_type": "execute_result"
    }
   ],
   "source": [
    "df_hun_covid[\"page\"].value_counts()"
   ]
  },
  {
   "cell_type": "markdown",
   "metadata": {},
   "source": [
    "### 7. Create covid title samples"
   ]
  },
  {
   "cell_type": "markdown",
   "metadata": {},
   "source": [
    "**kulfold**"
   ]
  },
  {
   "cell_type": "code",
   "execution_count": 21,
   "metadata": {},
   "outputs": [],
   "source": [
    "covid_foreign_df = pd.read_csv(\n",
    "    \"/Users/vigadam/Dropbox/github/media_network/media_data/analysis_covid/data/covid_articles_final.csv\",\n",
    "    index_col=0\n",
    ")"
   ]
  },
  {
   "cell_type": "code",
   "execution_count": 22,
   "metadata": {},
   "outputs": [],
   "source": [
    "np.random.seed(42)\n",
    "N = 1000\n",
    "covid_foreign_sample = stratified_sample(covid_foreign_df, \"page\", N)"
   ]
  },
  {
   "cell_type": "code",
   "execution_count": 23,
   "metadata": {},
   "outputs": [],
   "source": [
    "covid_sample = (\n",
    "    covid_foreign_sample.filter([\"title\"])\n",
    "    .rename(columns={\"title\": \"covid-title\"})\n",
    "    .to_dict(\"records\")\n",
    ")\n",
    "\n",
    "with open(\n",
    "    \"json-files/news-headlines-covid-kulfold.json\", \"w\", encoding=\"utf8\"\n",
    ") as outfile:\n",
    "    json.dump(covid_sample, outfile, ensure_ascii=False)\n",
    "\n",
    "covid_foreign_sample.to_pickle(\"sample_dfs/covid_foreign_sample.pkl\")\n",
    "\n",
    "pd.DataFrame(\n",
    "    [\"${\" + \"e://Field/{i}.covid-title\".format(i=i) + \"}\" for i in range(0, N)]\n",
    ").reset_index().to_excel(\"lm_excels/loop_and_merge_covid_kulfold.xlsx\", header=False)"
   ]
  },
  {
   "cell_type": "markdown",
   "metadata": {},
   "source": [
    "**belfold**"
   ]
  },
  {
   "cell_type": "code",
   "execution_count": 24,
   "metadata": {},
   "outputs": [],
   "source": [
    "np.random.seed(42)\n",
    "N = 1000\n",
    "covid_hun_sample = stratified_sample(df_hun_covid, \"page\", N)"
   ]
  },
  {
   "cell_type": "code",
   "execution_count": 25,
   "metadata": {},
   "outputs": [],
   "source": [
    "covid_sample = (\n",
    "    covid_hun_sample.filter([\"title\"])\n",
    "    .rename(columns={\"title\": \"covid-title\"})\n",
    "    .to_dict(\"records\")\n",
    ")\n",
    "\n",
    "with open(\"json-files/news-headlines-covid-belfold.json\", \"w\", encoding=\"utf8\") as outfile:\n",
    "    json.dump(covid_sample, outfile, ensure_ascii=False)\n",
    "\n",
    "covid_hun_sample.to_pickle(\"sample_dfs/covid_belfold_sample.pkl\")\n",
    "\n",
    "pd.DataFrame(\n",
    "    [\"${\" + \"e://Field/{i}.covid-title\".format(i=i) + \"}\" for i in range(0, N)]\n",
    ").reset_index().to_excel(\"lm_excels/loop_and_merge_covid_belfold.xlsx\", header=False)"
   ]
  },
  {
   "cell_type": "markdown",
   "metadata": {},
   "source": [
    "### 7. drop covid category, and write 6 subsample"
   ]
  },
  {
   "cell_type": "code",
   "execution_count": 26,
   "metadata": {},
   "outputs": [],
   "source": [
    "df = df.loc[df[\"korona\"] == 0]"
   ]
  },
  {
   "cell_type": "code",
   "execution_count": 27,
   "metadata": {},
   "outputs": [
    {
     "data": {
      "text/plain": [
       "mno      9257\n",
       "origo    8494\n",
       "index    7255\n",
       "24hu     6299\n",
       "888      4141\n",
       "444      2405\n",
       "Name: page, dtype: int64"
      ]
     },
     "execution_count": 27,
     "metadata": {},
     "output_type": "execute_result"
    }
   ],
   "source": [
    "df[\"page\"].value_counts()"
   ]
  },
  {
   "cell_type": "code",
   "execution_count": 28,
   "metadata": {},
   "outputs": [],
   "source": [
    "np.random.seed(42)\n",
    "sample_size = 1000\n",
    "\n",
    "for page in df[\"page\"].unique().tolist():\n",
    "\n",
    "    # create sample frame\n",
    "    sample_df = df.loc[lambda x: x[\"page\"] == page].dropna().sample(1000).reset_index()\n",
    "    # save sample frame\n",
    "    sample_df.to_pickle(\"sample_dfs/{page}_sample.pkl\".format(page=page))\n",
    "\n",
    "    # create sample json\n",
    "    sample = (\n",
    "        sample_df.rename(columns={\"title\": \"{page}-title\".format(page=page)})\n",
    "        .filter([\"{page}-title\".format(page=page)])\n",
    "        .to_dict(\"records\")\n",
    "    )\n",
    "    # save sample json\n",
    "    with open(\n",
    "        \"json-files/news-headlines-{}.json\".format(page), \"w\", encoding=\"utf8\"\n",
    "    ) as outfile:\n",
    "        json.dump(sample, outfile, ensure_ascii=False)\n",
    "\n",
    "    # save lm excel\n",
    "    pd.DataFrame(\n",
    "        [\n",
    "            \"${\" + \"e://Field/{i}.{page}-title\".format(page=page, i=i) + \"}\"\n",
    "            for i in range(0, N)\n",
    "        ]\n",
    "    ).reset_index().to_excel(\n",
    "        \"lm_excels/loop_and_merge_{page}.xlsx\".format(page=page), header=False\n",
    "    )"
   ]
  },
  {
   "cell_type": "markdown",
   "metadata": {},
   "source": [
    "### 8. create crosscheck table"
   ]
  },
  {
   "cell_type": "code",
   "execution_count": 29,
   "metadata": {},
   "outputs": [],
   "source": [
    "np.random.seed(42)\n",
    "crosscheck_sample_df = stratified_sample(df, \"page\", 100)\n",
    "crosscheck_sample_df.to_pickle(\"sample_dfs/crosscheck_sample.pkl\")\n",
    "\n",
    "crosscheck_sample = (\n",
    "    crosscheck_sample_df.filter([\"title\"])\n",
    "    .rename(columns={\"title\": \"crosscheck-title\"})\n",
    "    .to_dict(\"records\")\n",
    ")\n",
    "\n",
    "with open(\"json-files/news-headlines-crosscheck.json\", \"w\", encoding=\"utf8\") as outfile:\n",
    "    json.dump(crosscheck_sample, outfile, ensure_ascii=False)\n",
    "\n",
    "pd.DataFrame(\n",
    "    [\n",
    "        \"${\" + \"e://Field/{i}.crosscheck-title\".format(i=i) + \"}\"\n",
    "        for i in range(0, crosscheck_sample_df.shape[0])\n",
    "    ]\n",
    ").reset_index().to_excel(\"lm_excels/loop_and_merge_crosscheck.xlsx\", header=False)"
   ]
  },
  {
   "cell_type": "code",
   "execution_count": null,
   "metadata": {},
   "outputs": [],
   "source": []
  },
  {
   "cell_type": "code",
   "execution_count": null,
   "metadata": {},
   "outputs": [],
   "source": []
  }
 ],
 "metadata": {
  "kernelspec": {
   "display_name": "Python 3",
   "language": "python",
   "name": "python3"
  },
  "language_info": {
   "codemirror_mode": {
    "name": "ipython",
    "version": 3
   },
   "file_extension": ".py",
   "mimetype": "text/x-python",
   "name": "python",
   "nbconvert_exporter": "python",
   "pygments_lexer": "ipython3",
   "version": "3.8.6"
  }
 },
 "nbformat": 4,
 "nbformat_minor": 4
}
