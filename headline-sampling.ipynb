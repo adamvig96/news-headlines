{
 "cells": [
  {
   "cell_type": "code",
   "execution_count": 1,
   "metadata": {},
   "outputs": [],
   "source": [
    "import numpy as np\n",
    "import pandas as pd\n",
    "from sklearn.feature_extraction.text import CountVectorizer"
   ]
  },
  {
   "cell_type": "code",
   "execution_count": 76,
   "metadata": {},
   "outputs": [],
   "source": [
    "df_all = pd.read_pickle(\n",
    "    \"/Users/vigadam/Dropbox/My Mac (MacBook-Air.local)/Documents/github/media_network/media_data/clean_text/2020/all_site_2020.pkl\",\n",
    ")"
   ]
  },
  {
   "cell_type": "code",
   "execution_count": 77,
   "metadata": {},
   "outputs": [
    {
     "data": {
      "text/plain": [
       "Index    3168\n",
       "24.hu      14\n",
       "Name: page, dtype: int64"
      ]
     },
     "execution_count": 77,
     "metadata": {},
     "output_type": "execute_result"
    }
   ],
   "source": [
    "df_all.loc[\n",
    "    df_all[\"tags\"].apply(\n",
    "        lambda x: \"koronavírus magyarországon\" in x if type(x) == str else False\n",
    "    ),\n",
    "    \"page\",\n",
    "].value_counts()\n",
    "# check for covid benchmark study!!"
   ]
  },
  {
   "cell_type": "markdown",
   "metadata": {},
   "source": [
    "1. filter for index, origo, 24.hu"
   ]
  },
  {
   "cell_type": "code",
   "execution_count": 78,
   "metadata": {},
   "outputs": [],
   "source": [
    "df_all[\"page\"] = df_all[\"page\"].str.lower().str.replace(\".\", \"\", regex=True)"
   ]
  },
  {
   "cell_type": "code",
   "execution_count": 79,
   "metadata": {},
   "outputs": [],
   "source": [
    "df = df_all.copy()"
   ]
  },
  {
   "cell_type": "code",
   "execution_count": 80,
   "metadata": {},
   "outputs": [
    {
     "data": {
      "text/plain": [
       "origo    57575\n",
       "index    52676\n",
       "mno      45155\n",
       "24hu     37450\n",
       "444      15978\n",
       "888      15459\n",
       "Name: page, dtype: int64"
      ]
     },
     "execution_count": 80,
     "metadata": {},
     "output_type": "execute_result"
    }
   ],
   "source": [
    "df[\"page\"].value_counts()"
   ]
  },
  {
   "cell_type": "markdown",
   "metadata": {},
   "source": [
    "2. filter for section belfold"
   ]
  },
  {
   "cell_type": "code",
   "execution_count": 81,
   "metadata": {},
   "outputs": [],
   "source": [
    "df = df.assign(\n",
    "    category=lambda x: x[\"category\"]\n",
    "    .str.lower()\n",
    "    .replace(\"á\", \"a\")\n",
    "    .replace(\"ö\", \"o\")\n",
    "    .replace(\"ü\", \"u\")\n",
    "    .replace(\"é\", \"e\")\n",
    "    .replace(\"itthon\", \"belfold\")\n",
    "    .replace(\"belföld\", \"belfold\")\n",
    "    .replace(\"politika\", \"belfold\")\n",
    "    .replace(\"ketharmad\", \"belfold\")\n",
    "    .replace(\"egészségügy\", \"belfold\")\n",
    "    .replace(\"járvány\", \"belfold\")\n",
    "    .replace(\"oktatás\", \"belfold\")\n",
    "    .replace(\"budapest\", \"belfold\")\n",
    "    .replace(\"koronavírus\", \"belfold\")\n",
    ").loc[lambda x: x[\"category\"] == \"belfold\"]"
   ]
  },
  {
   "cell_type": "code",
   "execution_count": 82,
   "metadata": {},
   "outputs": [
    {
     "data": {
      "text/plain": [
       "origo    16816\n",
       "index    16386\n",
       "mno      13340\n",
       "24hu     12222\n",
       "888       5722\n",
       "444       5246\n",
       "Name: page, dtype: int64"
      ]
     },
     "execution_count": 82,
     "metadata": {},
     "output_type": "execute_result"
    }
   ],
   "source": [
    "df[\"page\"].value_counts()"
   ]
  },
  {
   "cell_type": "markdown",
   "metadata": {},
   "source": [
    "3. drop None titles"
   ]
  },
  {
   "cell_type": "code",
   "execution_count": 83,
   "metadata": {},
   "outputs": [],
   "source": [
    "df = df.dropna(subset=[\"title\"])"
   ]
  },
  {
   "cell_type": "code",
   "execution_count": 90,
   "metadata": {},
   "outputs": [],
   "source": [
    "df = df.loc[~df[\"title\"].apply(lambda x: \"videó\" in x if type(x) == str else False)]"
   ]
  },
  {
   "cell_type": "code",
   "execution_count": 91,
   "metadata": {},
   "outputs": [
    {
     "data": {
      "text/plain": [
       "index    16320\n",
       "origo    15620\n",
       "mno      13078\n",
       "24hu     12035\n",
       "888       5683\n",
       "444       5228\n",
       "Name: page, dtype: int64"
      ]
     },
     "execution_count": 91,
     "metadata": {},
     "output_type": "execute_result"
    }
   ],
   "source": [
    "df[\"page\"].value_counts()"
   ]
  },
  {
   "cell_type": "code",
   "execution_count": 92,
   "metadata": {},
   "outputs": [],
   "source": [
    "#df.to_pickle(\"all_sites_belfold.pkl\")"
   ]
  },
  {
   "cell_type": "code",
   "execution_count": 93,
   "metadata": {
    "scrolled": true
   },
   "outputs": [
    {
     "data": {
      "text/plain": [
       "index    16320\n",
       "origo    15620\n",
       "mno      13078\n",
       "24hu     12035\n",
       "888       5683\n",
       "444       5228\n",
       "Name: page, dtype: int64"
      ]
     },
     "execution_count": 93,
     "metadata": {},
     "output_type": "execute_result"
    }
   ],
   "source": [
    "df = pd.read_pickle(\"all_sites_belfold.pkl\")\n",
    "df[\"page\"].value_counts()"
   ]
  },
  {
   "cell_type": "code",
   "execution_count": 94,
   "metadata": {},
   "outputs": [],
   "source": [
    "main_pages = [\"index\",\"origo\",\"24hu\"]"
   ]
  },
  {
   "cell_type": "code",
   "execution_count": 95,
   "metadata": {},
   "outputs": [],
   "source": [
    "df_main = df.loc[lambda x: x[\"page\"].isin(main_pages)]"
   ]
  },
  {
   "cell_type": "code",
   "execution_count": 96,
   "metadata": {},
   "outputs": [],
   "source": [
    "df = df_main.copy()"
   ]
  },
  {
   "cell_type": "markdown",
   "metadata": {},
   "source": [
    "4. check  in index, origo, 24"
   ]
  },
  {
   "cell_type": "code",
   "execution_count": 97,
   "metadata": {},
   "outputs": [],
   "source": [
    "# some index obs has no tags, but link has coronavirus, tag == koronavírus\n",
    "df.loc[\n",
    "    (\n",
    "        (df[\"link\"].apply(lambda x: \"koronavirus\" in x if type(x) == str else False))\n",
    "        & (df[\"page\"] == \"index\")\n",
    "        & (df[\"tags\"].isnull())\n",
    "    ),\n",
    "    \"tags\",\n",
    "] = \"koronavírus\""
   ]
  },
  {
   "cell_type": "code",
   "execution_count": 52,
   "metadata": {},
   "outputs": [
    {
     "data": {
      "text/plain": [
       "koronavírus       15006\n",
       "baleset            2675\n",
       "magyarországon     2154\n",
       "rendőrség          2028\n",
       "budapest           1962\n",
       "krimi              1833\n",
       "orbán              1721\n",
       "bűnügy             1614\n",
       "viktor             1602\n",
       "időjárás           1523\n",
       "járvány            1367\n",
       "gergely            1288\n",
       "péter              1238\n",
       "magyarország       1114\n",
       "karácsony          1027\n",
       "gyilkosság          933\n",
       "lászló              919\n",
       "operatív            868\n",
       "törzs               868\n",
       "magyar              817\n",
       "kínai               716\n",
       "halálos             713\n",
       "fidesz              683\n",
       "istván              663\n",
       "megye               657\n",
       "dtype: int64"
      ]
     },
     "execution_count": 52,
     "metadata": {},
     "output_type": "execute_result"
    }
   ],
   "source": [
    "corpus = (\n",
    "    df[\"tags\"]\n",
    "    .str.replace(\"[\", \"\", regex=True)\n",
    "    .str.replace(\"]\", \"\", regex=True)\n",
    "    .str.replace(\"'\", \"\", regex=True)\n",
    "    .str.replace(\",\", \"\", regex=True)\n",
    "    .dropna()\n",
    ")\n",
    "\n",
    "vectorizer = CountVectorizer()\n",
    "X = vectorizer.fit_transform(corpus)\n",
    "\n",
    "dtm = pd.DataFrame(X.toarray(), columns=vectorizer.get_feature_names())\n",
    "\n",
    "dtm.sum().sort_values(ascending=False).head(25)"
   ]
  },
  {
   "cell_type": "code",
   "execution_count": 53,
   "metadata": {},
   "outputs": [
    {
     "data": {
      "text/plain": [
       "koronavírus magyarországon    2153\n",
       "orbán viktor                  1590\n",
       "koronavírus koronavírus       1159\n",
       "karácsony gergely              895\n",
       "operatív törzs                 865\n",
       "kínai koronavírus              709\n",
       "szijjártó péter                611\n",
       "koronavírus járvány            566\n",
       "halálos baleset                513\n",
       "koronavírus magyarország       506\n",
       "müller cecília                 448\n",
       "gyurcsány ferenc               376\n",
       "covid 19                       358\n",
       "kásler miklós                  338\n",
       "gulyás gergely                 310\n",
       "demokratikus koalíció          292\n",
       "magyarországon koronavírus     270\n",
       "európai unió                   265\n",
       "varga judit                    265\n",
       "testi sértés                   263\n",
       "járvány koronavírus            260\n",
       "heti tv                        258\n",
       "koronavírus covid              232\n",
       "novák katalin                  230\n",
       "soros györgy                   209\n",
       "dtype: int64"
      ]
     },
     "execution_count": 53,
     "metadata": {},
     "output_type": "execute_result"
    }
   ],
   "source": [
    "vectorizer = CountVectorizer(ngram_range = (2,2))\n",
    "X = vectorizer.fit_transform(corpus)\n",
    "\n",
    "dtm = pd.DataFrame(X.toarray(), columns=vectorizer.get_feature_names())\n",
    "\n",
    "dtm.sum().sort_values(ascending=False).head(25)"
   ]
  },
  {
   "cell_type": "markdown",
   "metadata": {},
   "source": [
    "5. drop selected tags"
   ]
  },
  {
   "cell_type": "code",
   "execution_count": 98,
   "metadata": {},
   "outputs": [],
   "source": [
    "df[\"krimi\"] = df[\"tags\"].apply(lambda x: \"krimi\" in x if type(x) == str else False)\n",
    "df[\"időjárás\"] = df[\"tags\"].apply(\n",
    "    lambda x: \"időjárás\" in x if type(x) == str else False\n",
    ")\n",
    "df[\"baleset\"] = df[\"tags\"].apply(lambda x: \"baleset\" in x if type(x) == str else False)\n",
    "df[\"rendőrség\"] = df[\"tags\"].apply(\n",
    "    lambda x: \"rendőrség\" in x if type(x) == str else False\n",
    ")\n",
    "df[\"bűnügy\"] = df[\"tags\"].apply(lambda x: \"bűnügy\" in x if type(x) == str else False)\n",
    "df[\"gyilkosság\"] = df[\"tags\"].apply(lambda x: \"gyilkosság\" in x if type(x) == str else False)\n",
    "df[\"testi_sertes\"] = df[\"tags\"].apply(\n",
    "    lambda x: \"testi sértés\" in x if type(x) == str else False\n",
    ")\n",
    "df[\"migráns\"] = df[\"tags\"].apply(lambda x: \"migráns\" in x if type(x) == str else False)\n",
    "df[\"drop\"] = df.filter(\n",
    "    [\"krimi\", \"időjárás\", \"baleset\", \"rendőrség\", \"bűnügy\", \"testi_sertes\",\"gyilkosság\"]\n",
    ").sum(axis=1)\n",
    "\n",
    "# BUT! keep those, that has migráns tag\n",
    "\n",
    "df.loc[lambda x: (x[\"drop\"] != 0) & (x[\"migráns\"]) == 1,\"drop\"] = 0"
   ]
  },
  {
   "cell_type": "code",
   "execution_count": 99,
   "metadata": {},
   "outputs": [
    {
     "name": "stdout",
     "output_type": "stream",
     "text": [
      "index    14443\n",
      "origo    11079\n",
      "24hu      9055\n",
      "Name: page, dtype: int64\n"
     ]
    }
   ],
   "source": [
    "#drop articles based on selected tags\n",
    "print(df.loc[lambda x: x[\"drop\"] == 0,\"page\"].value_counts())\n",
    "df = df.loc[lambda x: (x[\"drop\"] == 0)]"
   ]
  },
  {
   "cell_type": "markdown",
   "metadata": {},
   "source": [
    "6. create koronavírus category"
   ]
  },
  {
   "cell_type": "code",
   "execution_count": 100,
   "metadata": {},
   "outputs": [],
   "source": [
    "df[\"korona\"] = df[\"tags\"].apply(lambda x: \"koronavírus\" in x if type(x) == str else False)"
   ]
  },
  {
   "cell_type": "code",
   "execution_count": 101,
   "metadata": {},
   "outputs": [],
   "source": [
    "df_covid = df.loc[df[\"korona\"] == 1]"
   ]
  },
  {
   "cell_type": "code",
   "execution_count": 102,
   "metadata": {},
   "outputs": [
    {
     "data": {
      "text/plain": [
       "index    7176\n",
       "24hu     2742\n",
       "origo    2565\n",
       "Name: page, dtype: int64"
      ]
     },
     "execution_count": 102,
     "metadata": {},
     "output_type": "execute_result"
    }
   ],
   "source": [
    "df_covid[\"page\"].value_counts()"
   ]
  },
  {
   "cell_type": "code",
   "execution_count": 103,
   "metadata": {},
   "outputs": [],
   "source": [
    "def stratified_sample(df, category, sample_size):\n",
    "    return (\n",
    "        df.groupby(category, group_keys=False)\n",
    "        .apply(lambda x: x.sample(int(np.rint(sample_size * len(x) / len(df)))))\n",
    "        .sample(frac=1)\n",
    "        .reset_index(drop=True)\n",
    "    )"
   ]
  },
  {
   "cell_type": "code",
   "execution_count": 104,
   "metadata": {},
   "outputs": [],
   "source": [
    "# create stratified sample\n",
    "np.random.seed(42)\n",
    "N = 1000\n",
    "df_covid_sample = (\n",
    "    df_covid.groupby(\"page\", group_keys=False)\n",
    "    .apply(lambda x: x.sample(int(np.rint(N * len(x) / len(df_covid)))))\n",
    "    .sample(frac=1)\n",
    "    .reset_index(drop=True)\n",
    ")"
   ]
  },
  {
   "cell_type": "code",
   "execution_count": 105,
   "metadata": {},
   "outputs": [
    {
     "data": {
      "text/plain": [
       "index    0.575\n",
       "24hu     0.220\n",
       "origo    0.205\n",
       "Name: page, dtype: float64"
      ]
     },
     "execution_count": 105,
     "metadata": {},
     "output_type": "execute_result"
    }
   ],
   "source": [
    "df_covid_sample[\"page\"].value_counts(normalize=True)"
   ]
  },
  {
   "cell_type": "code",
   "execution_count": 106,
   "metadata": {},
   "outputs": [],
   "source": [
    "covid_sample = (\n",
    "    df_covid_sample.filter([\"title\"])\n",
    "    .rename(columns={\"title\": \"covid-title\"})\n",
    "    .to_dict(\"records\")\n",
    ")\n",
    "\n",
    "with open(\"json-files/news-headlines-covid.json\", \"w\", encoding=\"utf8\") as outfile:\n",
    "    json.dump(covid_sample, outfile, ensure_ascii=False)\n",
    "\n",
    "df_covid_sample.to_pickle(\"sample_dfs/covid_sample.pkl\")\n",
    "\n",
    "pd.DataFrame(\n",
    "    [\"${\" + \"e://Field/{i}.covid-title\".format(i=i) + \"}\" for i in range(0, N)]\n",
    ").reset_index().to_excel(\"lm_excels/loop_and_merge_covid.xlsx\", header=False)"
   ]
  },
  {
   "cell_type": "markdown",
   "metadata": {},
   "source": [
    "7. drop covid cat"
   ]
  },
  {
   "cell_type": "code",
   "execution_count": 107,
   "metadata": {},
   "outputs": [],
   "source": [
    "df = df.loc[df[\"korona\"] == 0]"
   ]
  },
  {
   "cell_type": "code",
   "execution_count": 108,
   "metadata": {},
   "outputs": [
    {
     "data": {
      "text/plain": [
       "origo    8514\n",
       "index    7267\n",
       "24hu     6313\n",
       "Name: page, dtype: int64"
      ]
     },
     "execution_count": 108,
     "metadata": {},
     "output_type": "execute_result"
    }
   ],
   "source": [
    "df[\"page\"].value_counts()"
   ]
  },
  {
   "cell_type": "code",
   "execution_count": 109,
   "metadata": {},
   "outputs": [],
   "source": [
    "np.random.seed(42)\n",
    "sample_size = 1000\n",
    "\n",
    "for page in main_pages:\n",
    "\n",
    "    # create sample frame\n",
    "    sample_df = (\n",
    "        df.filter([\"page\", \"title\"])\n",
    "        .loc[lambda x: x[\"page\"] == page]\n",
    "        .dropna()\n",
    "        .sample(1000)\n",
    "        .reset_index()\n",
    "    )\n",
    "    # save sample frame\n",
    "    sample_df.to_pickle(\"sample_dfs/{page}_sample.pkl\".format(page=page))\n",
    "\n",
    "    # create sample json\n",
    "    sample = (\n",
    "        sample_df.rename(columns={\"title\": \"{page}-title\".format(page=page)})\n",
    "        .filter([\"{page}-title\".format(page=page)])\n",
    "        .to_dict(\"records\")\n",
    "    )\n",
    "    # save sample json\n",
    "    with open(\n",
    "        \"json-files/news-headlines-{}.json\".format(page), \"w\", encoding=\"utf8\"\n",
    "    ) as outfile:\n",
    "        json.dump(sample, outfile, ensure_ascii=False)\n",
    "\n",
    "    # save lm excel\n",
    "    pd.DataFrame(\n",
    "        [\n",
    "            \"${\" + \"e://Field/{i}.{page}-title\".format(page=page, i=i) + \"}\"\n",
    "            for i in range(0, N)\n",
    "        ]\n",
    "    ).reset_index().to_excel(\n",
    "        \"lm_excels/loop_and_merge_{page}.xlsx\".format(page=page), header=False\n",
    "    )"
   ]
  },
  {
   "cell_type": "markdown",
   "metadata": {},
   "source": [
    "### 8. create crosscheck table"
   ]
  },
  {
   "cell_type": "code",
   "execution_count": 110,
   "metadata": {},
   "outputs": [],
   "source": [
    "df = pd.read_pickle(\"all_sites_belfold.pkl\")\n",
    "# some index obs has no tags, but link has coronavirus, tag == koronavírus\n",
    "df.loc[\n",
    "    (\n",
    "        (df[\"link\"].apply(lambda x: \"koronavirus\" in x if type(x) == str else False))\n",
    "        & (df[\"page\"] == \"index\")\n",
    "        & (df[\"tags\"].isnull())\n",
    "    ),\n",
    "    \"tags\",\n",
    "] = \"koronavírus\""
   ]
  },
  {
   "cell_type": "code",
   "execution_count": 111,
   "metadata": {},
   "outputs": [],
   "source": [
    "df[\"krimi\"] = df[\"tags\"].apply(lambda x: \"krimi\" in x if type(x) == str else False)\n",
    "df[\"időjárás\"] = df[\"tags\"].apply(\n",
    "    lambda x: \"időjárás\" in x if type(x) == str else False\n",
    ")\n",
    "df[\"baleset\"] = df[\"tags\"].apply(lambda x: \"baleset\" in x if type(x) == str else False)\n",
    "df[\"rendőrség\"] = df[\"tags\"].apply(\n",
    "    lambda x: \"rendőrség\" in x if type(x) == str else False\n",
    ")\n",
    "df[\"bűnügy\"] = df[\"tags\"].apply(lambda x: \"bűnügy\" in x if type(x) == str else False)\n",
    "df[\"gyilkosság\"] = df[\"tags\"].apply(lambda x: \"gyilkosság\" in x if type(x) == str else False)\n",
    "df[\"testi_sertes\"] = df[\"tags\"].apply(\n",
    "    lambda x: \"testi sértés\" in x if type(x) == str else False\n",
    ")\n",
    "df[\"migráns\"] = df[\"tags\"].apply(lambda x: \"migráns\" in x if type(x) == str else False)\n",
    "df[\"drop\"] = df.filter(\n",
    "    [\"krimi\", \"időjárás\", \"baleset\", \"rendőrség\", \"bűnügy\", \"testi_sertes\",\"gyilkosság\"]\n",
    ").sum(axis=1)\n",
    "\n",
    "# BUT! keep those, that has migráns tag\n",
    "\n",
    "df.loc[lambda x: (x[\"drop\"] != 0) & (x[\"migráns\"]) == 1,\"drop\"] = 0\n",
    "\n",
    "df = df.loc[lambda x: (x[\"drop\"] == 0)]"
   ]
  },
  {
   "cell_type": "code",
   "execution_count": 112,
   "metadata": {},
   "outputs": [],
   "source": [
    "df[\"korona\"] = df[\"tags\"].apply(lambda x: \"koronavírus\" in x if type(x) == str else False)\n",
    "\n",
    "df = df.loc[df[\"korona\"] == 0]"
   ]
  },
  {
   "cell_type": "code",
   "execution_count": 113,
   "metadata": {},
   "outputs": [],
   "source": [
    "np.random.seed(42)\n",
    "crosscheck_sample_df = stratified_sample(df, \"page\", 100)\n",
    "crosscheck_sample_df.to_pickle(\"sample_dfs/crosscheck_sample.pkl\")\n",
    "\n",
    "crosscheck_sample = (\n",
    "    crosscheck_sample_df.filter([\"title\"])\n",
    "    .rename(columns={\"title\": \"crosscheck-title\"})\n",
    "    .to_dict(\"records\")\n",
    ")\n",
    "\n",
    "with open(\"json-files/news-headlines-crosscheck.json\", \"w\", encoding=\"utf8\") as outfile:\n",
    "    json.dump(crosscheck_sample, outfile, ensure_ascii=False)\n",
    "\n",
    "pd.DataFrame(\n",
    "    [\n",
    "        \"${\" + \"e://Field/{i}.crosscheck-title\".format(i=i) + \"}\"\n",
    "        for i in range(0, crosscheck_sample_df.shape[0])\n",
    "    ]\n",
    ").reset_index().to_excel(\"lm_excels/loop_and_merge_crosscheck.xlsx\", header=False)"
   ]
  },
  {
   "cell_type": "markdown",
   "metadata": {},
   "source": [
    "9. 1000 sample from other sites"
   ]
  },
  {
   "cell_type": "code",
   "execution_count": 114,
   "metadata": {},
   "outputs": [],
   "source": [
    "np.random.seed(42)\n",
    "N = 1000\n",
    "\n",
    "others_sample_df = stratified_sample(df.loc[~df[\"page\"].isin(main_pages)], \"page\", N)\n",
    "others_sample_df.to_pickle(\"sample_dfs/others_sample.pkl\")\n",
    "\n",
    "others_sample = (\n",
    "    crosscheck_sample_df.filter([\"title\"])\n",
    "    .rename(columns={\"title\": \"other-title\"})\n",
    "    .to_dict(\"records\")\n",
    ")\n",
    "\n",
    "with open(\"json-files/news-headlines-others.json\", \"w\", encoding=\"utf8\") as outfile:\n",
    "    json.dump(others_sample, outfile, ensure_ascii=False)\n",
    "\n",
    "pd.DataFrame(\n",
    "    [\"${\" + \"e://Field/{i}.others-title\".format(i=i) + \"}\" for i in range(0, N)]\n",
    ").reset_index().to_excel(\"lm_excels/loop_and_merge_others.xlsx\", header=False)"
   ]
  },
  {
   "cell_type": "code",
   "execution_count": null,
   "metadata": {},
   "outputs": [],
   "source": []
  },
  {
   "cell_type": "code",
   "execution_count": null,
   "metadata": {},
   "outputs": [],
   "source": []
  },
  {
   "cell_type": "code",
   "execution_count": null,
   "metadata": {},
   "outputs": [],
   "source": []
  },
  {
   "cell_type": "code",
   "execution_count": null,
   "metadata": {},
   "outputs": [],
   "source": []
  },
  {
   "cell_type": "code",
   "execution_count": null,
   "metadata": {},
   "outputs": [],
   "source": [
    "import ast"
   ]
  },
  {
   "cell_type": "code",
   "execution_count": null,
   "metadata": {},
   "outputs": [],
   "source": [
    "ast.literal_eval()"
   ]
  },
  {
   "cell_type": "code",
   "execution_count": null,
   "metadata": {},
   "outputs": [],
   "source": [
    "results = pd.read_csv(\"Ádám+survey+try_April+14,+2021_05.18.csv\")\n"
   ]
  },
  {
   "cell_type": "code",
   "execution_count": null,
   "metadata": {},
   "outputs": [],
   "source": [
    "results.T"
   ]
  },
  {
   "cell_type": "code",
   "execution_count": null,
   "metadata": {},
   "outputs": [],
   "source": [
    "results.T.loc[lambda x: x[1] == \"995.title-24hu\"]"
   ]
  },
  {
   "cell_type": "code",
   "execution_count": null,
   "metadata": {},
   "outputs": [],
   "source": [
    "results = pd.read_csv(\"Ádám+survey+try_April+14,+2021_05.18.csv\")\n",
    "results = results.T.assign(\n",
    "    ImportId=lambda x: x[1].apply(ast.literal_eval).apply(lambda x: x[\"ImportId\"],\n",
    "                                                         )\n",
    ")"
   ]
  },
  {
   "cell_type": "code",
   "execution_count": null,
   "metadata": {},
   "outputs": [],
   "source": [
    "question_id = results.loc[\n",
    "    results[\"ImportId\"].apply(lambda x: 1 if \"title\" in x else None).dropna().index\n",
    "].filter([2]).rename(columns={2:\"title\"})"
   ]
  },
  {
   "cell_type": "code",
   "execution_count": null,
   "metadata": {},
   "outputs": [],
   "source": [
    "answers = (\n",
    "    results.loc[\n",
    "        results[0].apply(lambda x: 1 if \"${e://Field/\" in x else None).dropna().index\n",
    "    ]\n",
    "    .drop(columns=[\"ImportId\"])\n",
    "    .assign(\n",
    "        Id=lambda x: x[0]\n",
    "        .str.split(\"}\")\n",
    "        .apply(lambda x: x[0])\n",
    "        .str.split(\"/\")\n",
    "        .apply(lambda x: x[-1])\n",
    "    ).set_index(\"Id\").iloc[:,2:]\n",
    ")"
   ]
  },
  {
   "cell_type": "code",
   "execution_count": null,
   "metadata": {},
   "outputs": [],
   "source": [
    "question_id"
   ]
  },
  {
   "cell_type": "code",
   "execution_count": null,
   "metadata": {},
   "outputs": [],
   "source": [
    "answers"
   ]
  },
  {
   "cell_type": "code",
   "execution_count": null,
   "metadata": {},
   "outputs": [],
   "source": [
    "pd.merge(question_id.reset_index(),answers.reset_index(),left_on = \"index\",right_on= \"Id\")"
   ]
  },
  {
   "cell_type": "code",
   "execution_count": null,
   "metadata": {},
   "outputs": [],
   "source": [
    "results.loc[lambda x: x[\"ImportId\"] == \"484.title-index\"]"
   ]
  },
  {
   "cell_type": "code",
   "execution_count": null,
   "metadata": {},
   "outputs": [],
   "source": [
    "results.loc[\n",
    "    lambda x: x[2]\n",
    "    == \"Sokan úgy érzik, jóval nagyobb mértékben drágult az élet, mint a kimutatott adat\"\n",
    "]"
   ]
  },
  {
   "cell_type": "code",
   "execution_count": null,
   "metadata": {},
   "outputs": [],
   "source": [
    "results  = results.assign(head=lambda x: x[\"ImportId\"].str.split(\"_\").apply(lambda x: x[1]))"
   ]
  },
  {
   "cell_type": "code",
   "execution_count": null,
   "metadata": {},
   "outputs": [],
   "source": [
    "results[\"head\"]"
   ]
  },
  {
   "cell_type": "code",
   "execution_count": null,
   "metadata": {},
   "outputs": [],
   "source": [
    "results"
   ]
  },
  {
   "cell_type": "code",
   "execution_count": null,
   "metadata": {},
   "outputs": [],
   "source": [
    "results[\"ImportId\"].apply(lambda x: x[\"ImportId\"])"
   ]
  },
  {
   "cell_type": "code",
   "execution_count": null,
   "metadata": {},
   "outputs": [],
   "source": []
  }
 ],
 "metadata": {
  "kernelspec": {
   "display_name": "Python 3",
   "language": "python",
   "name": "python3"
  },
  "language_info": {
   "codemirror_mode": {
    "name": "ipython",
    "version": 3
   },
   "file_extension": ".py",
   "mimetype": "text/x-python",
   "name": "python",
   "nbconvert_exporter": "python",
   "pygments_lexer": "ipython3",
   "version": "3.8.6"
  }
 },
 "nbformat": 4,
 "nbformat_minor": 4
}
