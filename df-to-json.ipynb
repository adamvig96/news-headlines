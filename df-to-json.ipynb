{
 "cells": [
  {
   "cell_type": "code",
   "execution_count": 28,
   "metadata": {},
   "outputs": [],
   "source": [
    "import pandas as pd"
   ]
  },
  {
   "cell_type": "code",
   "execution_count": 46,
   "metadata": {},
   "outputs": [],
   "source": [
    "df = pd.read_csv(\n",
    "    \"/Users/vigadam/Dropbox/My Mac (MacBook-Air.local)/Documents/github/media_network/media_data/clean_text/2020/all_site_2020.csv\",\n",
    ").drop(columns=[\"Unnamed: 0.1\", \"Unnamed: 0\"])"
   ]
  },
  {
   "cell_type": "code",
   "execution_count": 49,
   "metadata": {},
   "outputs": [],
   "source": [
    "df = (\n",
    "    df.assign(\n",
    "        category=lambda x: x[\"category\"]\n",
    "        .str.lower()\n",
    "        .replace(\"á\", \"a\")\n",
    "        .replace(\"ö\", \"o\")\n",
    "        .replace(\"ü\", \"u\")\n",
    "        .replace(\"é\", \"e\")\n",
    "        .replace(\"fn\", \"gazdasag\")\n",
    "        .replace(\"egeszsegugy\", \"egeszseg\")\n",
    "        .replace(\"itthon\", \"belfold\")\n",
    "        .replace(\"külföld\", \"kulfold\")\n",
    "        .replace(\"belföld\", \"belfold\")\n",
    "        .replace(\"nagyvilag\", \"kulfold\")\n",
    "        .replace(\"politika\", \"belfold\")\n",
    "        .replace(\"ketharmad\", \"belfold\")\n",
    "        .replace(\"amerika-london-parizs\", \"kulfold\")\n",
    "    )\n",
    "    .loc[lambda x: x[\"category\"] == \"belfold\"]\n",
    "    .dropna(subset=[\"title\"])\n",
    ")"
   ]
  },
  {
   "cell_type": "code",
   "execution_count": 58,
   "metadata": {},
   "outputs": [],
   "source": [
    "pages = [\"Index\",\"origo\"]"
   ]
  },
  {
   "cell_type": "code",
   "execution_count": 59,
   "metadata": {},
   "outputs": [],
   "source": [
    "for page in pages:\n",
    "    sample = (\n",
    "        df.filter([\"page\", \"title\"])\n",
    "        .loc[lambda x: x[\"page\"] == page]\n",
    "        .dropna()\n",
    "        .sample(5000)\n",
    "        .reset_index()\n",
    "        .rename(columns={\"index\": \"id\"})\n",
    "        .to_dict(\"records\")\n",
    "    )\n",
    "\n",
    "    with open(\"news-headlines-{}.json\".format(page), \"w\", encoding=\"utf8\") as outfile:\n",
    "        json.dump(sample, outfile, ensure_ascii=False)"
   ]
  },
  {
   "cell_type": "code",
   "execution_count": 75,
   "metadata": {},
   "outputs": [],
   "source": [
    "pd.DataFrame(\n",
    "    [\"${\" + \"e://Field/{i}.id\".format(i=i) + \"}\" for i in range(0, 5000)],\n",
    "    [\"${\" + \"e://Field/{i}.title\".format(i=i) + \"}\" for i in range(0, 5000)],\n",
    ").reset_index().to_excel(\"loop_and_merge.xlsx\",header=False)"
   ]
  },
  {
   "cell_type": "code",
   "execution_count": null,
   "metadata": {},
   "outputs": [],
   "source": []
  }
 ],
 "metadata": {
  "kernelspec": {
   "display_name": "Python 3",
   "language": "python",
   "name": "python3"
  },
  "language_info": {
   "codemirror_mode": {
    "name": "ipython",
    "version": 3
   },
   "file_extension": ".py",
   "mimetype": "text/x-python",
   "name": "python",
   "nbconvert_exporter": "python",
   "pygments_lexer": "ipython3",
   "version": "3.8.6"
  }
 },
 "nbformat": 4,
 "nbformat_minor": 4
}
